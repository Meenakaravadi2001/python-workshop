{
 "cells": [
  {
   "cell_type": "markdown",
   "metadata": {},
   "source": [
    "# bold\n",
    "# python\n",
    "## c-Lang\n",
    "# ## java\n",
    "\n",
    "#### csharp\n",
    "# Bold\n",
    "** Markdown**\n",
    "# italic\n",
    "*hello*\n",
    "# Both bold And italic\n",
    "*** How Are You\n",
    "# how  to handle Images\n",
    "### Follow Two ways\n",
    "** offline **\n",
    "<imag src =\"person \">\n",
    "    ** on-line**\n",
    "    "
   ]
  },
  {
   "cell_type": "markdown",
   "metadata": {},
   "source": [
    "\n"
   ]
  },
  {
   "cell_type": "markdown",
   "metadata": {},
   "source": [
    "# Bullet points\n",
    "*languages\n",
    "-cLang\n",
    "+ Python\n",
    "*Java\n",
    "- Webpages\n",
    "+ html\n",
    "-css\n",
    "-js\n",
    "+ Documention\n",
    "+ ms word\n",
    "- markdown\n",
    "+ Techanical\n"
   ]
  },
  {
   "cell_type": "markdown",
   "metadata": {},
   "source": [
    "# Python Programming \n",
    "\n",
    "# Introduction to Python\n",
    "\n",
    "# History of Python\n",
    "\n",
    "# Features of Python\n",
    "\n",
    "# Keywords or Reservedwords in Python\n",
    "\n",
    "# Operators in Python\n",
    "\n"
   ]
  },
  {
   "cell_type": "markdown",
   "metadata": {},
   "source": [
    "# Introduction  to Python\n",
    "\n",
    "### in python  We  have  5 different keys \n",
    "+ Highlevel Language\n",
    "- Object Oriented Programming(oops)\n",
    "* Interpeted\n",
    "- Dynamic Programming\n",
    "+ Multilevel Programming\n",
    "# History of Python\n",
    "\n",
    "## Monty `python ` fly circus\n",
    "\n",
    "+ In 1989 started Implimentation  of python \n",
    "\n",
    "+ In 1991 Implimented 0.9 version \n",
    "\n",
    "+ In 1994 Implimented 1.0  version  with features of  lamda ,map,filter ,reduce \n",
    "\n",
    "+ In 2000 Implimented 2.0  version with features of datastructures Like  list ,Tuple ,Directionary ,Sets ..,etc\n",
    "\n",
    "+ In 2008 Republished  3.0  version with features large no of libraries ,garbagecollection And  Fastworking Updating\n",
    "\n",
    "\n",
    "\n",
    "# Features of Python\n",
    "\n",
    "+ Easy  to learn  & Easy  to  Write\n",
    "\n",
    "+ crossplatform\n",
    "\n",
    "+ Scalable\n",
    "\n",
    "+ Portable\n",
    "\n",
    "+ Scripting"
   ]
  },
  {
   "cell_type": "code",
   "execution_count": null,
   "metadata": {},
   "outputs": [],
   "source": [
    "# keywords or Reserwords in python\n",
    "import keyword\n",
    "\n",
    "dir(keyword)\n",
    "\n",
    "keyword.kwlist"
   ]
  },
  {
   "cell_type": "code",
   "execution_count": null,
   "metadata": {},
   "outputs": [],
   "source": [
    "in generastors yeild keyword \n",
    "\n",
    "in iterators "
   ]
  },
  {
   "cell_type": "code",
   "execution_count": null,
   "metadata": {},
   "outputs": [],
   "source": [
    "help()"
   ]
  },
  {
   "cell_type": "markdown",
   "metadata": {},
   "source": [
    "# operators\n",
    "\n",
    "\n",
    "+ Arthematic operator(+,-,%,/,,**,//)\n",
    "+ Relational or  Comparsion operator(>,<,<=,>=,==,!=)\n",
    "+ Assignment operator(+=,-=,*=,/=,**=,//=)\n",
    "+ Logical operator( and ,or  , not)\n",
    "+ Bitwise operator(&,|,^,>>,<<)\n",
    "+ Membership Operator  (in, not in)\n",
    "+ Identity Operator (is, is not)\n",
    "\n"
   ]
  },
  {
   "cell_type": "code",
   "execution_count": 1,
   "metadata": {},
   "outputs": [
    {
     "name": "stdout",
     "output_type": "stream",
     "text": [
      "30\n",
      "-10\n",
      "200\n",
      "0.5\n",
      "10\n",
      "100000000000000000000\n",
      "100000000000000000000\n",
      "0\n"
     ]
    }
   ],
   "source": [
    "a=10\n",
    "b=20\n",
    "print(a+b)\n",
    "print(a-b)\n",
    "print(a*b)\n",
    "print(a/b)\n",
    "print(a%b)\n",
    "print(a**b)\n",
    "print(pow(10,20))\n",
    "print(a//b)\n",
    "\n",
    "\n"
   ]
  },
  {
   "cell_type": "code",
   "execution_count": 9,
   "metadata": {},
   "outputs": [
    {
     "name": "stdout",
     "output_type": "stream",
     "text": [
      "True\n",
      "False\n",
      "False\n",
      "True\n"
     ]
    }
   ],
   "source": [
    "# Relational Operators\n",
    "x=100\n",
    "y=90\n",
    "\n",
    "print(x>y)\n",
    "print(x<y)\n",
    "print(x==y)\n",
    "print(x!=y)"
   ]
  },
  {
   "cell_type": "code",
   "execution_count": 8,
   "metadata": {},
   "outputs": [
    {
     "name": "stdout",
     "output_type": "stream",
     "text": [
      "46656.0\n"
     ]
    }
   ],
   "source": [
    "# Assinment Operators\n",
    "\n",
    "p=10\n",
    "p+=40\n",
    "p-=20\n",
    "p*=2\n",
    "p/=3\n",
    "p//=3\n",
    "p**=6\n",
    "\n",
    "print(p)\n",
    "    "
   ]
  },
  {
   "cell_type": "code",
   "execution_count": 15,
   "metadata": {},
   "outputs": [
    {
     "name": "stdout",
     "output_type": "stream",
     "text": [
      "False\n",
      "False\n",
      "False\n",
      "True\n"
     ]
    }
   ],
   "source": [
    "#Logical Operator\n",
    "#And\n",
    "print(False and False)\n",
    "print(False and True )\n",
    "print(True and False)\n",
    "print(True and True)"
   ]
  },
  {
   "cell_type": "code",
   "execution_count": 16,
   "metadata": {},
   "outputs": [
    {
     "name": "stdout",
     "output_type": "stream",
     "text": [
      "False\n",
      "False\n",
      "False\n",
      "True\n"
     ]
    }
   ],
   "source": [
    "#Or\n",
    "print(False and False)\n",
    "print(False and True)\n",
    "print(True and False)\n",
    "print(True and True)"
   ]
  },
  {
   "cell_type": "code",
   "execution_count": 17,
   "metadata": {},
   "outputs": [
    {
     "name": "stdout",
     "output_type": "stream",
     "text": [
      "False\n",
      "False\n",
      "False\n",
      "True\n"
     ]
    }
   ],
   "source": [
    "#not\n",
    "print(False and False)\n",
    "print (False and True)\n",
    "print(True and False)\n",
    "print(True and True )"
   ]
  },
  {
   "cell_type": "code",
   "execution_count": 18,
   "metadata": {},
   "outputs": [
    {
     "name": "stdout",
     "output_type": "stream",
     "text": [
      "True\n",
      "True\n",
      "False\n",
      "False\n"
     ]
    }
   ],
   "source": [
    "print(10>5 and 20>8)\n",
    "\n",
    "print(100<101 or 99>50)\n",
    "\n",
    "print(50>55 and 45>100)\n",
    "\n",
    "print(5==5 and 5!=5)\n",
    "\n",
    "print(not(10==10) and 50!=49))"
   ]
  },
  {
   "cell_type": "code",
   "execution_count": 19,
   "metadata": {},
   "outputs": [
    {
     "data": {
      "text/plain": [
       "'0b10'"
      ]
     },
     "execution_count": 19,
     "metadata": {},
     "output_type": "execute_result"
    }
   ],
   "source": [
    "# Bit wise Operators\n",
    "2&2\n",
    "\n",
    "bin(2)"
   ]
  },
  {
   "cell_type": "code",
   "execution_count": 22,
   "metadata": {},
   "outputs": [
    {
     "name": "stdout",
     "output_type": "stream",
     "text": [
      "2\n",
      "15\n",
      "1\n"
     ]
    }
   ],
   "source": [
    "# Bit wise Operators\n",
    "\n",
    "\n",
    "print(2&2)\n",
    "print(10|5)\n",
    "print(5^4)"
   ]
  },
  {
   "cell_type": "code",
   "execution_count": 24,
   "metadata": {},
   "outputs": [
    {
     "name": "stdout",
     "output_type": "stream",
     "text": [
      "False\n",
      "True\n"
     ]
    }
   ],
   "source": [
    "# Identity Operators\n",
    "x=100\n",
    "y=1000\n",
    "\n",
    "print(x is y)\n",
    "print(x is not y)"
   ]
  },
  {
   "cell_type": "code",
   "execution_count": 25,
   "metadata": {},
   "outputs": [
    {
     "name": "stdout",
     "output_type": "stream",
     "text": [
      "10\n",
      "10\n",
      "10\n"
     ]
    }
   ],
   "source": [
    "a=b=c=10\n",
    "print(a)\n",
    "print(b)\n",
    "print(c)\n"
   ]
  },
  {
   "cell_type": "code",
   "execution_count": 26,
   "metadata": {},
   "outputs": [
    {
     "name": "stdout",
     "output_type": "stream",
     "text": [
      "10\n",
      "20\n",
      "30\n"
     ]
    }
   ],
   "source": [
    "a,b,c=10,20,30\n",
    "print(a)\n",
    "print(b)\n",
    "print(c)"
   ]
  },
  {
   "cell_type": "code",
   "execution_count": 23,
   "metadata": {},
   "outputs": [
    {
     "data": {
      "text/plain": [
       "'a'"
      ]
     },
     "execution_count": 23,
     "metadata": {},
     "output_type": "execute_result"
    }
   ],
   "source": [
    "ord('a')\n",
    "\n",
    "chr(97)"
   ]
  },
  {
   "cell_type": "code",
   "execution_count": 14,
   "metadata": {},
   "outputs": [
    {
     "ename": "SyntaxError",
     "evalue": "invalid syntax (<ipython-input-14-f2e84d395993>, line 1)",
     "output_type": "error",
     "traceback": [
      "\u001b[1;36m  File \u001b[1;32m\"<ipython-input-14-f2e84d395993>\"\u001b[1;36m, line \u001b[1;32m1\u001b[0m\n\u001b[1;33m    for var in range (10) In Python\u001b[0m\n\u001b[1;37m                          ^\u001b[0m\n\u001b[1;31mSyntaxError\u001b[0m\u001b[1;31m:\u001b[0m invalid syntax\n"
     ]
    }
   ],
   "source": [
    "for var in range (10) In Python\n",
    "\n",
    "{% for  i in range (10) %} in html"
   ]
  },
  {
   "cell_type": "code",
   "execution_count": null,
   "metadata": {},
   "outputs": [],
   "source": [
    "Comparing  versions\n",
    "Firstversion and second  version  print  statement is \n",
    "print a+b\n",
    "by using input method \n",
    "raw_input"
   ]
  },
  {
   "cell_type": "code",
   "execution_count": 4,
   "metadata": {},
   "outputs": [
    {
     "data": {
      "text/plain": [
       "30"
      ]
     },
     "execution_count": 4,
     "metadata": {},
     "output_type": "execute_result"
    }
   ],
   "source": [
    "a=10\n",
    "b=20\n",
    "a+b"
   ]
  },
  {
   "cell_type": "code",
   "execution_count": 11,
   "metadata": {},
   "outputs": [
    {
     "name": "stdout",
     "output_type": "stream",
     "text": [
      "enter the x value:-15\n",
      "enter the y value:-30\n",
      "Addition of 15 + 30 = 45\n"
     ]
    }
   ],
   "source": [
    "#Dynamic Values\n",
    "x=int(input('enter the x value:-'))\n",
    "y=int(input('enter the y value:-'))\n",
    "\n",
    "print(\"Addition of %d + %d = %d\"%(x,y,x+y))"
   ]
  },
  {
   "cell_type": "markdown",
   "metadata": {},
   "source": [
    "# Expression\n",
    "\n",
    "1. Take 5 inputs from user\n",
    "\n",
    "2. to perform  operation\n",
    "\n",
    "3. store result in a variable\n",
    "\n",
    "4.  print that the final result"
   ]
  },
  {
   "cell_type": "code",
   "execution_count": 19,
   "metadata": {},
   "outputs": [
    {
     "name": "stdout",
     "output_type": "stream",
     "text": [
      "enter a value:2\n",
      "enter b value:6\n",
      "enter c value:5\n",
      "enter d value:9\n",
      "enter e value:0\n",
      "final result is 22\n"
     ]
    }
   ],
   "source": [
    "a=int(input(\"enter a value:\"))\n",
    "b=int(input(\"enter b value:\"))\n",
    "c=int(input(\"enter c value:\"))\n",
    "e=int(input(\"enter e value:\"))\n",
    "result=a+b+c+d+e\n",
    "print('final result is' ,result)"
   ]
  },
  {
   "cell_type": "code",
   "execution_count": 17,
   "metadata": {},
   "outputs": [
    {
     "data": {
      "text/plain": [
       "str"
      ]
     },
     "execution_count": 17,
     "metadata": {},
     "output_type": "execute_result"
    }
   ],
   "source": [
    "a=\"chandu\"\n",
    "type(a)"
   ]
  },
  {
   "cell_type": "markdown",
   "metadata": {},
   "source": [
    "## Syntax\n",
    "\n",
    "if conditional: \n",
    "   statemets\n",
    "   \n",
    "   elif condition: \n",
    "    statements \n",
    "    \n",
    "   else: \n",
    "        statements"
   ]
  },
  {
   "cell_type": "code",
   "execution_count": 22,
   "metadata": {},
   "outputs": [
    {
     "name": "stdout",
     "output_type": "stream",
     "text": [
      "Enter the value3\n",
      "3 is Odd Number\n"
     ]
    }
   ],
   "source": [
    "n1=int(input('Enter the value'))\n",
    "if n1%2==0:\n",
    "    print(n1,'is Even Number')\n",
    "else:\n",
    "    print(n1,'is Odd Number')"
   ]
  }
 ],
 "metadata": {
  "kernelspec": {
   "display_name": "Python 3",
   "language": "python",
   "name": "python3"
  },
  "language_info": {
   "codemirror_mode": {
    "name": "ipython",
    "version": 3
   },
   "file_extension": ".py",
   "mimetype": "text/x-python",
   "name": "python",
   "nbconvert_exporter": "python",
   "pygments_lexer": "ipython3",
   "version": "3.8.5"
  }
 },
 "nbformat": 4,
 "nbformat_minor": 4
}
