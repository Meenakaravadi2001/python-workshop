{
 "cells": [
  {
   "cell_type": "markdown",
   "metadata": {},
   "source": [
    "### Today  concepts\n",
    "-iterations:\n",
    "-repeat the same work for number of times\n",
    "\n",
    "-for loop:\n",
    "\n",
    "-no of iterations\n",
    "\n",
    "-while loops:\n",
    "\n",
    "-condition check\n",
    "\n",
    "-jumping statements\n",
    "\n",
    "-functions\n",
    "\n",
    "-strings"
   ]
  },
  {
   "cell_type": "code",
   "execution_count": null,
   "metadata": {},
   "outputs": [],
   "source": [
    "# range(start,final,step)\n",
    "# for var in range(start,final,step):\n",
    "# statements"
   ]
  },
  {
   "cell_type": "code",
   "execution_count": 4,
   "metadata": {},
   "outputs": [
    {
     "name": "stdout",
     "output_type": "stream",
     "text": [
      "hello world\n",
      "hello world\n",
      "hello world\n",
      "hello world\n",
      "hello world\n",
      "hello world\n",
      "hello world\n",
      "hello world\n",
      "hello world\n",
      "hello world\n",
      "\n"
     ]
    }
   ],
   "source": [
    "print('hello world\\n'*10)\n"
   ]
  },
  {
   "cell_type": "code",
   "execution_count": 5,
   "metadata": {},
   "outputs": [
    {
     "name": "stdout",
     "output_type": "stream",
     "text": [
      "helo world\n"
     ]
    }
   ],
   "source": [
    "print('helo world')"
   ]
  },
  {
   "cell_type": "code",
   "execution_count": 9,
   "metadata": {},
   "outputs": [
    {
     "name": "stdout",
     "output_type": "stream",
     "text": [
      "hello world\n",
      "hello world\n",
      "hello world\n",
      "hello world\n",
      "hello world\n",
      "hello world\n",
      "hello world\n",
      "hello world\n",
      "hello world\n",
      "hello world\n"
     ]
    }
   ],
   "source": [
    "for var in range(10):\n",
    "    print('hello world')"
   ]
  },
  {
   "cell_type": "code",
   "execution_count": 12,
   "metadata": {},
   "outputs": [
    {
     "name": "stdout",
     "output_type": "stream",
     "text": [
      "0\n",
      "1\n",
      "2\n",
      "3\n",
      "4\n",
      "5\n",
      "6\n",
      "7\n",
      "8\n",
      "9\n"
     ]
    }
   ],
   "source": [
    "for i in range(10):\n",
    "    print(i)"
   ]
  },
  {
   "cell_type": "code",
   "execution_count": 15,
   "metadata": {},
   "outputs": [
    {
     "name": "stdout",
     "output_type": "stream",
     "text": [
      "2\n",
      "4\n",
      "6\n",
      "8\n",
      "10\n"
     ]
    }
   ],
   "source": [
    "for i in range(2,11,2):\n",
    "    print(i)"
   ]
  },
  {
   "cell_type": "code",
   "execution_count": 18,
   "metadata": {},
   "outputs": [
    {
     "name": "stdout",
     "output_type": "stream",
     "text": [
      "0\r",
      "2\r",
      "4\r",
      "6\r",
      "8\r",
      "10\r",
      "12\r",
      "14\r",
      "16\r",
      "18\r"
     ]
    }
   ],
   "source": [
    "for i in range(20):\n",
    "    if i%2 == 0:\n",
    "        print(i,end= '\\r')\n",
    "        "
   ]
  },
  {
   "cell_type": "code",
   "execution_count": 30,
   "metadata": {},
   "outputs": [
    {
     "name": "stdout",
     "output_type": "stream",
     "text": [
      "enter table number:17\n",
      "enter table length:20\n",
      "17 * 1 = 17\n",
      "17 * 2 = 34\n",
      "17 * 3 = 51\n",
      "17 * 4 = 68\n",
      "17 * 5 = 85\n",
      "17 * 6 = 102\n",
      "17 * 7 = 119\n",
      "17 * 8 = 136\n",
      "17 * 9 = 153\n",
      "17 * 10 = 170\n",
      "17 * 11 = 187\n",
      "17 * 12 = 204\n",
      "17 * 13 = 221\n",
      "17 * 14 = 238\n",
      "17 * 15 = 255\n",
      "17 * 16 = 272\n",
      "17 * 17 = 289\n",
      "17 * 18 = 306\n",
      "17 * 19 = 323\n",
      "17 * 20 = 340\n"
     ]
    }
   ],
   "source": [
    "t=int(input('enter table number:'))\n",
    "t_l=int(input('enter table length:'))\n",
    "for i in range(1,t_l+1):\n",
    "    #17 * 1 = 17\n",
    "    print('{} * {} = {}'.format(t,i,t*i))"
   ]
  },
  {
   "cell_type": "code",
   "execution_count": 42,
   "metadata": {},
   "outputs": [
    {
     "name": "stdout",
     "output_type": "stream",
     "text": [
      "enter number:30\n",
      "1 sum of factors :  1\n",
      "2 sum of factors :  3\n",
      "3 sum of factors :  6\n",
      "5 sum of factors :  11\n",
      "6 sum of factors :  17\n",
      "10 sum of factors :  27\n",
      "15 sum of factors :  42\n"
     ]
    }
   ],
   "source": [
    "# Factor of a number\n",
    "n = int(input('enter number:'))\n",
    "f_s = 0\n",
    "for i in range(1,n):\n",
    "    if n%i==0:\n",
    "        f_s+=i\n",
    "        print(i,end=' ')\n",
    "        print('sum of factors : ',f_s)\n"
   ]
  },
  {
   "cell_type": "code",
   "execution_count": 38,
   "metadata": {},
   "outputs": [
    {
     "name": "stdout",
     "output_type": "stream",
     "text": [
      "enter number:40\n",
      "1 2 4 5 8 10 20 40 "
     ]
    }
   ],
   "source": [
    "#factor of a number\n",
    "n = int(input('enter number:'))\n",
    "for i in range(1,n+i):\n",
    "    if n%i==0:\n",
    "        print(i,end =' ')"
   ]
  },
  {
   "cell_type": "code",
   "execution_count": 44,
   "metadata": {},
   "outputs": [
    {
     "name": "stdout",
     "output_type": "stream",
     "text": [
      "enter  factorial number: 7\n",
      "5040\n"
     ]
    }
   ],
   "source": [
    "n = int(input('enter  factorial number: '))\n",
    "fact = 1\n",
    "for i in range(1,n+1):\n",
    "     fact*=i\n",
    "print(fact)"
   ]
  },
  {
   "cell_type": "code",
   "execution_count": 45,
   "metadata": {},
   "outputs": [
    {
     "name": "stdout",
     "output_type": "stream",
     "text": [
      "1\n",
      "2\n",
      "3\n",
      "4\n",
      "5\n",
      "6\n",
      "7\n",
      "8\n",
      "9\n"
     ]
    }
   ],
   "source": [
    "#while Loop:\n",
    "#syntax:\n",
    "#while condition\n",
    "     #statements\n",
    "i = 1\n",
    "while i<10:\n",
    "    print(i)\n",
    "    i+=1"
   ]
  },
  {
   "cell_type": "code",
   "execution_count": 62,
   "metadata": {},
   "outputs": [
    {
     "name": "stdout",
     "output_type": "stream",
     "text": [
      "1 2 3 4 5 6 7 8 9 10 "
     ]
    }
   ],
   "source": [
    "i = 1\n",
    "while i<20:\n",
    "    print(i,end = ' ')\n",
    "    if i == 10:\n",
    "        break\n",
    "    i+=1\n"
   ]
  },
  {
   "cell_type": "code",
   "execution_count": 64,
   "metadata": {},
   "outputs": [],
   "source": [
    "#functions:\n",
    "# block of codes to do some task\n",
    "# 1. code resuseability\n",
    "# 2. reduce the size of program\n",
    "# 3. readabulity\n",
    "# 4. Types of functions\n",
    "# 5. reduce the time\n",
    "#1. Predefine functions\n",
    "#2. Userdefine functions\n",
    "#3. Special functions\n"
   ]
  },
  {
   "cell_type": "code",
   "execution_count": null,
   "metadata": {},
   "outputs": [],
   "source": [
    "#user define function:\n",
    "#1.function creation\n",
    "#a.declare the function\n",
    "   # def functionName(arg):\n",
    "#b.function defination\n",
    "   #statements\n",
    "#2.function calling\n",
    "   # by using function name\n"
   ]
  },
  {
   "cell_type": "code",
   "execution_count": 66,
   "metadata": {},
   "outputs": [],
   "source": [
    "def add(a,b):\n",
    "    print(a+b)"
   ]
  },
  {
   "cell_type": "code",
   "execution_count": 67,
   "metadata": {},
   "outputs": [
    {
     "name": "stdout",
     "output_type": "stream",
     "text": [
      "1286\n"
     ]
    }
   ],
   "source": [
    "add(488,798)"
   ]
  },
  {
   "cell_type": "code",
   "execution_count": null,
   "metadata": {},
   "outputs": [],
   "source": [
    "#based on return  type\n",
    "#1.without arg and without return value\n",
    "#2.without arg and  with return value\n",
    "#3.with arg without return value\n",
    "#4.with arg and with return value"
   ]
  },
  {
   "cell_type": "code",
   "execution_count": 69,
   "metadata": {},
   "outputs": [
    {
     "name": "stdout",
     "output_type": "stream",
     "text": [
      "enter num1:2\n",
      "enter num2:6\n",
      "sum of 2 and 6 is: 8\n"
     ]
    }
   ],
   "source": [
    "#1.without arg and without return value\n",
    "def add():\n",
    "    num1 = int(input('enter num1:'))\n",
    "    num2 = int(input('enter num2:'))\n",
    "    print('sum of',num1,'and',num2,'is:'\n",
    "          ,num1+num2)\n",
    "add()"
   ]
  },
  {
   "cell_type": "code",
   "execution_count": 70,
   "metadata": {},
   "outputs": [
    {
     "name": "stdout",
     "output_type": "stream",
     "text": [
      "enter num1:4\n",
      "enter num2:7\n",
      "sum of 4 and 7 is: 11\n"
     ]
    }
   ],
   "source": [
    "#2\n",
    "def sub():\n",
    "    n1=2\n",
    "    n2=4\n",
    "    return n1-n2\n",
    "    print(n1+n2)\n",
    "sub()\n",
    "add()"
   ]
  },
  {
   "cell_type": "code",
   "execution_count": 2,
   "metadata": {},
   "outputs": [
    {
     "name": "stdout",
     "output_type": "stream",
     "text": [
      "270\n"
     ]
    }
   ],
   "source": [
    "#with arg and without return value\n",
    "def mul(a,b):\n",
    "    print(a*b)\n",
    "mul(45,6)"
   ]
  },
  {
   "cell_type": "code",
   "execution_count": 3,
   "metadata": {},
   "outputs": [
    {
     "data": {
      "text/plain": [
       "(4, 5, 9, -1, 0.8)"
      ]
     },
     "execution_count": 3,
     "metadata": {},
     "output_type": "execute_result"
    }
   ],
   "source": [
    "#with arg with return value\n",
    "def div(a,b):\n",
    "    return a,b,a+b,a-b,a/b\n",
    "div(4,5)"
   ]
  },
  {
   "cell_type": "code",
   "execution_count": 4,
   "metadata": {},
   "outputs": [],
   "source": [
    "#Based on Arg\n",
    "#1.Default Arg\n",
    "#2.required or Postional Arg\n",
    "#3.Variable Length Arg\n",
    "#4.Keyword Arg"
   ]
  },
  {
   "cell_type": "code",
   "execution_count": 6,
   "metadata": {},
   "outputs": [
    {
     "data": {
      "text/plain": [
       "120"
      ]
     },
     "execution_count": 6,
     "metadata": {},
     "output_type": "execute_result"
    }
   ],
   "source": [
    "#1.Default Arg:\n",
    "def Default(a=10,b=20):\n",
    "    return a+b\n",
    "Default(50,70)"
   ]
  },
  {
   "cell_type": "code",
   "execution_count": 7,
   "metadata": {},
   "outputs": [
    {
     "data": {
      "text/plain": [
       "80"
      ]
     },
     "execution_count": 7,
     "metadata": {},
     "output_type": "execute_result"
    }
   ],
   "source": [
    "def required(a,b,c=30):\n",
    "    return a*b*c\n",
    "required(2,4,10)"
   ]
  },
  {
   "cell_type": "code",
   "execution_count": 14,
   "metadata": {},
   "outputs": [
    {
     "data": {
      "text/plain": [
       "17"
      ]
     },
     "execution_count": 14,
     "metadata": {},
     "output_type": "execute_result"
    }
   ],
   "source": [
    "#Variable Length Arg:\n",
    "def Var_len(a,*b):\n",
    "    return a+sum(b)\n",
    "Var_len(4,5,8)\n"
   ]
  },
  {
   "cell_type": "code",
   "execution_count": 19,
   "metadata": {},
   "outputs": [
    {
     "name": "stdout",
     "output_type": "stream",
     "text": [
      "hello abc welcome to Pace clg\n"
     ]
    }
   ],
   "source": [
    "#Keyword arg\n",
    "def keyword(name,college):\n",
    "    print('hello {} welcome to {}'.format(name,college))\n",
    "keyword(college = 'Pace clg',name = 'abc')"
   ]
  },
  {
   "cell_type": "code",
   "execution_count": 20,
   "metadata": {},
   "outputs": [
    {
     "name": "stdout",
     "output_type": "stream",
     "text": [
      "{'name': ['abc', '123', 'hello']}\n"
     ]
    }
   ],
   "source": [
    "def key(**name):\n",
    "    print(name)\n",
    "key(name = ['abc', '123','hello'])"
   ]
  },
  {
   "cell_type": "code",
   "execution_count": 26,
   "metadata": {},
   "outputs": [
    {
     "data": {
      "text/plain": [
       "False"
      ]
     },
     "execution_count": 26,
     "metadata": {},
     "output_type": "execute_result"
    }
   ],
   "source": [
    "def Is_prime(n):\n",
    "    if n == 1:\n",
    "        return False\n",
    "    cnt = 0\n",
    "    for i in range(2,n):\n",
    "        if n%i == 0:\n",
    "            cnt+=1\n",
    "            break\n",
    "    if cnt  == 0:\n",
    "            return True\n",
    "    else:\n",
    "            return False\n",
    "Is_prime(21)\n",
    "        "
   ]
  },
  {
   "cell_type": "code",
   "execution_count": 30,
   "metadata": {},
   "outputs": [
    {
     "name": "stdout",
     "output_type": "stream",
     "text": [
      "Enter start value:46\n",
      "Enter end value:78\n",
      "47\n",
      "53\n",
      "59\n",
      "61\n",
      "67\n",
      "71\n",
      "73\n"
     ]
    }
   ],
   "source": [
    "def prime_gen(s,e):\n",
    "    for i in range(s,e+1):\n",
    "        if Is_prime(i):\n",
    "            print(i)\n",
    "s=int(input('Enter start value:'))\n",
    "e=int(input('Enter end value:'))\n",
    "prime_gen(s,e)"
   ]
  },
  {
   "cell_type": "code",
   "execution_count": null,
   "metadata": {},
   "outputs": [],
   "source": []
  }
 ],
 "metadata": {
  "kernelspec": {
   "display_name": "Python 3",
   "language": "python",
   "name": "python3"
  },
  "language_info": {
   "codemirror_mode": {
    "name": "ipython",
    "version": 3
   },
   "file_extension": ".py",
   "mimetype": "text/x-python",
   "name": "python",
   "nbconvert_exporter": "python",
   "pygments_lexer": "ipython3",
   "version": "3.8.5"
  }
 },
 "nbformat": 4,
 "nbformat_minor": 4
}
